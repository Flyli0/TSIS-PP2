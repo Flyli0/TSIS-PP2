{
 "cells": [
  {
   "cell_type": "markdown",
   "metadata": {},
   "source": [
    "-Home & intro example-"
   ]
  },
  {
   "cell_type": "code",
   "execution_count": 5,
   "metadata": {},
   "outputs": [
    {
     "name": "stdout",
     "output_type": "stream",
     "text": [
      "Hello, World!\n"
     ]
    }
   ],
   "source": [
    "print(\"Hello, World!\")"
   ]
  },
  {
   "cell_type": "markdown",
   "metadata": {},
   "source": [
    "-get started-"
   ]
  },
  {
   "cell_type": "code",
   "execution_count": 6,
   "metadata": {},
   "outputs": [
    {
     "name": "stdout",
     "output_type": "stream",
     "text": [
      "Get started!!!\n"
     ]
    }
   ],
   "source": [
    "print(\"Get started!!!\")"
   ]
  },
  {
   "cell_type": "markdown",
   "metadata": {},
   "source": [
    "-Python syntax-"
   ]
  },
  {
   "cell_type": "code",
   "execution_count": null,
   "metadata": {},
   "outputs": [],
   "source": [
    "if 2 > 3:\n",
    "    print(\"Hi\")"
   ]
  },
  {
   "cell_type": "markdown",
   "metadata": {},
   "source": [
    "-Comments-"
   ]
  },
  {
   "cell_type": "code",
   "execution_count": null,
   "metadata": {},
   "outputs": [],
   "source": [
    "#This is a coment \n",
    "'''This is a multiline comment\n",
    "print('nothing')'''"
   ]
  },
  {
   "cell_type": "markdown",
   "metadata": {},
   "source": [
    "-Python variables-"
   ]
  },
  {
   "cell_type": "code",
   "execution_count": null,
   "metadata": {},
   "outputs": [],
   "source": [
    "x = 'Mark'\n",
    "y = 4\n",
    "x = 20\n",
    "print(x+y)\n",
    "\n",
    "'''Legal variable names'''\n",
    "myvar = \"John\"\n",
    "my_var = \"John\"\n",
    "_my_var = \"John\"\n",
    "myVar = \"John\"\n",
    "MYVAR = \"John\"\n",
    "myvar2 = \"John\"\n",
    "\n",
    "'''illegal variable names'''\n",
    "2myvar = \"John\"\n",
    "my-var = \"John\"\n",
    "my var = \"John\"\n",
    "my.var = \"John\"\n",
    "\n",
    "'''Assignment of multiple variables'''\n",
    "a,b,c = 1,2,3\n",
    "print(a , b , c)\n",
    "#Output -> 123\n",
    "\n",
    "'''Unpacking'''\n",
    "fruits = [\"apple\", \"banana\", \"cherry\"]\n",
    "x, y, z = fruits\n",
    "print(x)\n",
    "print(y)\n",
    "print(z)\n",
    "#Output -> apple banana cherry\n",
    "\n",
    "'''output'''\n",
    "print(a,b,c)\n",
    "print(a+b+c)\n",
    "\n",
    "'''Global variable'''\n",
    "x = \"awesome\" #x is global\n",
    "def myfunc():\n",
    "  print(\"Python is \" + x)\n",
    "myfunc()"
   ]
  },
  {
   "cell_type": "markdown",
   "metadata": {},
   "source": [
    "\n",
    "-Data types-"
   ]
  },
  {
   "cell_type": "code",
   "execution_count": null,
   "metadata": {},
   "outputs": [],
   "source": [
    "s = 20 \n",
    "s = 2.5\n",
    "s = True\n",
    "s = 'Python'\n",
    "s = (1,2)\n",
    "s = [1,2]\n",
    "s = {1,2}\n",
    "print(type(s))"
   ]
  },
  {
   "cell_type": "markdown",
   "metadata": {},
   "source": [
    "-Numbers-"
   ]
  },
  {
   "cell_type": "code",
   "execution_count": null,
   "metadata": {},
   "outputs": [],
   "source": [
    "x=1    #int\n",
    "x=1.2  #float\n",
    "x=1j   #complex"
   ]
  },
  {
   "cell_type": "markdown",
   "metadata": {},
   "source": [
    "-Casting-"
   ]
  },
  {
   "cell_type": "code",
   "execution_count": null,
   "metadata": {},
   "outputs": [],
   "source": [
    "x = int(1)\n",
    "x = str(1)\n",
    "x = float(1)\n",
    "x = list(1,2,3)"
   ]
  },
  {
   "cell_type": "markdown",
   "metadata": {},
   "source": [
    "-Strings-"
   ]
  },
  {
   "cell_type": "code",
   "execution_count": 7,
   "metadata": {},
   "outputs": [
    {
     "data": {
      "text/plain": [
       "\"Quotes doesn't matter\""
      ]
     },
     "execution_count": 7,
     "metadata": {},
     "output_type": "execute_result"
    }
   ],
   "source": [
    "'''Quotes doesn't matter'''\n",
    "print(\"Hello\")\n",
    "print('Hello')\n",
    "\n",
    "'''Slicing'''\n",
    "a = \"1234\"\n",
    "b = a[1:3] #b = \"23\"\n",
    "b = a[:-3] #b = \"123\"\n",
    "b = a[::-1] #b = \"4321\"\n",
    "\n",
    "'''Modifying'''\n",
    "a = \"Hello, World!\"\n",
    "print(a.lower())\n",
    "\n",
    "'''Concatenation'''\n",
    "a = \"It was \"\n",
    "b = \"ME-DIO!!!\"\n",
    "print(a+b) # -> It was ME-DIO!!!\n",
    "c = a + \" \" + b\n",
    "\n",
    "'''Formatting'''\n",
    "age = 36\n",
    "txt = f\"My name is John, I am {age}\"\n",
    "print(txt)\n",
    "\n",
    "'''Escape chars'''\n",
    "txt = \"We are the so-called \\\"Vikings\\\" from the north.\" # '\\' for escaping from string \n",
    "\n",
    "'''Str method exemples'''\n",
    "x = 'Hi'\n",
    "x.capitalize\n",
    "x.casefold #str into lowercase\n",
    "x.center\n",
    "x.count\n",
    "x.upper"
   ]
  }
 ],
 "metadata": {
  "kernelspec": {
   "display_name": "Python 3",
   "language": "python",
   "name": "python3"
  },
  "language_info": {
   "codemirror_mode": {
    "name": "ipython",
    "version": 3
   },
   "file_extension": ".py",
   "mimetype": "text/x-python",
   "name": "python",
   "nbconvert_exporter": "python",
   "pygments_lexer": "ipython3",
   "version": "3.13.1"
  }
 },
 "nbformat": 4,
 "nbformat_minor": 2
}
