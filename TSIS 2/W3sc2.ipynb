{
 "cells": [
  {
   "cell_type": "markdown",
   "metadata": {},
   "source": [
    "'''Boolean'''"
   ]
  },
  {
   "cell_type": "code",
   "execution_count": null,
   "metadata": {},
   "outputs": [],
   "source": [
    "print(10 > 9)\n",
    "print(10 == 9)\n",
    "print(10 < 9)\n",
    "# reurn True or False \n",
    "print(bool(\"Hello\"))\n",
    "print(bool(15))\n",
    "#casting    "
   ]
  },
  {
   "cell_type": "markdown",
   "metadata": {},
   "source": [
    "'''Operators'''"
   ]
  },
  {
   "cell_type": "code",
   "execution_count": null,
   "metadata": {},
   "outputs": [],
   "source": [
    "#comparison\n",
    ">= ; <= ; == ; > ; < ; !=\n",
    "#logical\n",
    "and ; or ; not \n",
    "#identify\n",
    "is ; is not \n",
    "#Membership \n",
    "in ; not in \n",
    "#Bitwise \n",
    "& ; | ; ^ ; ~ ; << ; >>"
   ]
  },
  {
   "cell_type": "markdown",
   "metadata": {},
   "source": [
    "'''Lists'''"
   ]
  },
  {
   "cell_type": "code",
   "execution_count": null,
   "metadata": {},
   "outputs": [],
   "source": [
    "thislist = [\"apple\", \"banana\", \"cherry\"]\n",
    "tropical = [\"mango\", \"pineapple\", \"papaya\"]\n",
    "print(thislist)\n",
    "\n",
    "list1 = [\"abc\", 34, True, 40, \"male\"]\n",
    "\n",
    "a = list(b) # casting to list \n",
    "\n",
    "#access\n",
    "a[0]\n",
    "\n",
    "#slicing \n",
    "thislist = [\"apple\", \"banana\", \"cherry\", \"orange\", \"kiwi\", \"melon\", \"mango\"]\n",
    "print(thislist[2:5])\n",
    "\n",
    "#LISTS ARE MUTABLE \n",
    "thislist[0] = \"Ananas\"\n",
    "\n",
    "#Adding \n",
    "thislist.insert(1,\"bananaaaa\") # by index\n",
    "thislist.append(\"cat\") # at the end \n",
    "thislist.extend(tropical) # to unit 2 iterable objects \n",
    "\n",
    "#Removing \n",
    "thislist.remove(\"apple\") #removes first appearance \n",
    "thislist.pop(1) #by index \n",
    "\n",
    "#loop through lists \n",
    "thislist = [\"apple\", \"banana\", \"cherry\"]\n",
    "for x in thislist:\n",
    "  print(x)\n",
    "\n",
    "#Comprehention\n",
    "fruits = [\"apple\", \"banana\", \"cherry\", \"kiwi\", \"mango\"]\n",
    "newlist = [x for x in fruits if \"a\" in x]\n",
    "\n",
    "#Sorting\n",
    "thislist.sort(reverse=False)\n",
    "a = sorted(thislist)\n",
    "\n",
    "#Coping\n",
    "thislist = [\"apple\", \"banana\", \"cherry\"]\n",
    "mylist = thislist.copy()\n",
    "mylist = thislist[:]\n",
    "mylist = list(thislist)\n",
    "\n",
    "#Join\n",
    "list1 = [\"a\", \"b\", \"c\"]\n",
    "list2 = [1, 2, 3]\n",
    "list3 = list1 + list2\n",
    "print(list3) \n",
    "\n",
    "list1.extend(list2)\n",
    "\n",
    "#Methods\n",
    ".append()\t#Adds an element at the end of the list\n",
    ".clear()\t#Returns a copy of the list\n",
    ".count()\t#Returns the number of elements with the specified value\n",
    ".extend()\t#Add the elements of a list (or any iterable), to the end of the current list\n",
    ".index()\t#Returns the index of the first element with the specified value\n",
    ".insert()\t#Adds an element at the specified position\n",
    ".pop()\t#Removes the element at the specified position\n",
    ".remove()\t#Removes the item with the specified value\n",
    ".reverse()\t#Reverses the order of the list\n",
    ".sort()\t#Sorts the list"
   ]
  },
  {
   "cell_type": "markdown",
   "metadata": {},
   "source": [
    "'''Tuples'''"
   ]
  },
  {
   "cell_type": "code",
   "execution_count": null,
   "metadata": {},
   "outputs": [],
   "source": [
    "thistuple = (\"apple\", \"banana\", \"cherry\") \n",
    "# tuples are immutable\n",
    "\n",
    "#Access\n",
    "thistuple[1]\n",
    "\n",
    "#Changing by converting \n",
    "x = (\"apple\", \"banana\", \"cherry\")\n",
    "y = list(x)\n",
    "y[1] = \"kiwi\"\n",
    "x = tuple(y)\n",
    "\n",
    "#Unpacking \n",
    "fruits = (\"apple\", \"banana\", \"cherry\")\n",
    "(green, yellow, red) = fruits\n",
    "print(green) #>> apple\n",
    "print(yellow) #>> banana\n",
    "print(red) #>> cherry\n",
    "\n",
    "#Loop\n",
    "thistuple = (\"apple\", \"banana\", \"cherry\")\n",
    "for x in thistuple:\n",
    "  print(x)\n",
    "\n",
    "#Join\n",
    "tuple1 = (\"a\", \"b\" , \"c\")\n",
    "tuple2 = (1, 2, 3)\n",
    "tuple3 = tuple1 + tuple2\n",
    "print(tuple3)\n",
    "\n",
    "#Methods\n",
    ".count() #Returns the number of times a specified value occurs in a tuple\n",
    ".index() #Searches the tuple for a specified value and returns the position of where it was found"
   ]
  },
  {
   "cell_type": "markdown",
   "metadata": {},
   "source": [
    "'''Sets'''"
   ]
  },
  {
   "cell_type": "code",
   "execution_count": null,
   "metadata": {},
   "outputs": [],
   "source": [
    "myset = {\"apple\", \"banana\", \"cherry\"}\n",
    "\n",
    "#Access\n",
    "thisset = {\"apple\", \"banana\", \"cherry\"}\n",
    "for x in thisset:\n",
    "  print(x)\n",
    "\n",
    "#Add\n",
    "thisset = {\"apple\", \"banana\", \"cherry\"}\n",
    "for x in thisset:\n",
    "  print(x)\n",
    "\n",
    "#Removing \n",
    "thisset.discard(\"banana\")\n",
    "x = thisset.pop()\n",
    "\n",
    "#Loop\n",
    "thisset = {\"apple\", \"banana\", \"cherry\"}\n",
    "for x in thisset:\n",
    "  print(x)\n",
    "\n",
    "#Join \n",
    "set1 = {\"a\", \"b\", \"c\"}\n",
    "set2 = {1, 2, 3}\n",
    "set3 = {\"John\", \"Elena\"}\n",
    "set4 = {\"apple\", \"bananas\", \"cherry\"}\n",
    "myset = set1.union(set2, set3, set4)\n",
    "#or set1 | set2 | set3 |set4\n",
    "print(myset)\n",
    "#or\n",
    "set1 = {\"a\", \"b\" , \"c\"}\n",
    "set2 = {1, 2, 3}\n",
    "set1.update(set2)\n",
    "print(set1)\n",
    "\n",
    "#intersection \n",
    "set1 = {\"apple\", \"banana\", \"cherry\"}\n",
    "set2 = {\"google\", \"microsoft\", \"apple\"}\n",
    "set3 = set1 & set2\n",
    "#or set1.intersection(set2)\n",
    "print(set3)\n",
    "\n",
    "#Method\n",
    "\n",
    "add()\t \t#Adds an element to the set\n",
    "clear()\t \t#Removes all the elements from the set\n",
    "copy()\t \t#Returns a copy of the set\n",
    "difference()\t-\t#Removes the items in this set that are also included in another, specified set\n",
    "discard()\t \t#Remove the specified item\n",
    "intersection()\t&\t#Returns a set, that is the intersection of two other sets\n",
    "intersection_update()\t&=\t#Removes the items in this set that are not present in other, specified set(s)\n",
    "isdisjoint()\t \t#Returns whether two sets have a intersection or not\n",
    "issubset()\t<=\t#Returns whether another set contains this set or not\n",
    " \t<\t#Returns whether all items in this set is present in other, specified set(s)\n",
    "issuperset()\t>=\t#Returns whether this set contains another set or not\n",
    " \t>\t#Returns whether all items in other, specified set(s) is present in this set\n",
    "pop()\t \t#Removes an element from the set\n",
    "remove()\t \t#Removes the specified element\n",
    "symmetric_difference()\t^\t#Returns a set with the symmetric differences of two sets\n",
    "symmetric_difference_update()\t^=\t#Inserts the symmetric differences from this set and another\n",
    "union()\t|\t#Return a set containing the union of sets\n",
    "update()"
   ]
  },
  {
   "cell_type": "markdown",
   "metadata": {},
   "source": [
    "'''Dictionaries '''"
   ]
  },
  {
   "cell_type": "code",
   "execution_count": null,
   "metadata": {},
   "outputs": [],
   "source": [
    "thisdict = {\n",
    "  \"brand\": \"Ford\",\n",
    "  \"model\": \"Mustang\",\n",
    "  \"year\": 1964\n",
    "}\n",
    "\n",
    "#Access\n",
    "x = thisdict[\"model\"]\n",
    "\n",
    "#Changing elements \n",
    "thisdict[\"year\"] = 2018\n",
    "\n",
    "#Adding elements \n",
    "thisdict[\"color\"] = \"red\"\n",
    "\n",
    "#Removing \n",
    "thisdict.pop(\"model\") #by specified Key \n",
    "thisdict.popitem() #Last \n",
    "thisdict.clear() #All\n",
    "\n",
    "#Loop\n",
    "for x in thisdict:\n",
    "  print(x)\n",
    "\n",
    "#Coping\n",
    "mydict = thisdict.copy()\n",
    "\n",
    "#Nested \n",
    "myfamily = {\n",
    "  \"child1\" : {\n",
    "    \"name\" : \"Emil\",\n",
    "    \"year\" : 2004\n",
    "  },\n",
    "  \"child2\" : {\n",
    "    \"name\" : \"Tobias\",\n",
    "    \"year\" : 2007\n",
    "  },\n",
    "  \"child3\" : {\n",
    "    \"name\" : \"Linus\",\n",
    "    \"year\" : 2011\n",
    "  }\n",
    "}\n",
    "\n",
    "#Methods\n",
    ".clear()\t#Removes all the elements from the dictionary\n",
    ".copy()\t#Returns a copy of the dictionary\n",
    ".fromkeys()\t#Returns a dictionary with the specified keys and value\n",
    ".get()\t#Returns the value of the specified key\n",
    ".items()\t#Returns a list containing a tuple for each key value pair\n",
    ".keys()\t#Returns a list containing the dictionary's keys\n",
    ".pop()\t#Removes the element with the specified key\n",
    ".popitem()\t#Removes the last inserted key-value pair\n",
    ".setdefault()\t#Returns the value of the specified key. If the key does not exist: insert the key, with the specified value\n",
    ".update()\t#Updates the dictionary with the specified key-value pairs\n",
    ".values()\t#Returns a list of all the values in the dictionary"
   ]
  },
  {
   "cell_type": "markdown",
   "metadata": {},
   "source": [
    "'''If-else condition'''"
   ]
  },
  {
   "cell_type": "code",
   "execution_count": null,
   "metadata": {},
   "outputs": [],
   "source": [
    "a = 200\n",
    "b = 33\n",
    "if b > a:\n",
    "  print(\"b is greater than a\")\n",
    "elif a == b:\n",
    "  print(\"a and b are equal\")\n",
    "else:\n",
    "  print(\"a is greater than b\")"
   ]
  },
  {
   "cell_type": "markdown",
   "metadata": {},
   "source": [
    "'''While loops'''"
   ]
  },
  {
   "cell_type": "code",
   "execution_count": null,
   "metadata": {},
   "outputs": [],
   "source": [
    "i = 1\n",
    "while i < 6:\n",
    "  print(i)\n",
    "  if i == 3:\n",
    "    break\n",
    "  i += 1"
   ]
  },
  {
   "cell_type": "markdown",
   "metadata": {},
   "source": [
    "'''For loop'''"
   ]
  },
  {
   "cell_type": "code",
   "execution_count": null,
   "metadata": {},
   "outputs": [],
   "source": [
    "fruits = [\"apple\", \"banana\", \"cherry\"]\n",
    "for x in fruits:\n",
    "  print(x)\n",
    "\n",
    "  fruits = [\"apple\", \"banana\", \"cherry\"]\n",
    "for x in fruits:\n",
    "  print(x)\n",
    "  if x == \"banana\":\n",
    "    break\n",
    "  \n",
    "#We can use continue & break for any type of loops"
   ]
  }
 ],
 "metadata": {
  "kernelspec": {
   "display_name": "Python 3",
   "language": "python",
   "name": "python3"
  },
  "language_info": {
   "name": "python",
   "version": "3.13.1"
  }
 },
 "nbformat": 4,
 "nbformat_minor": 2
}
